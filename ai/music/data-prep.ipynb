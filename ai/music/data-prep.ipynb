{
 "cells": [
  {
   "cell_type": "markdown",
   "id": "4c444a2a",
   "metadata": {},
   "source": [
    "## Generating the combinations"
   ]
  },
  {
   "cell_type": "code",
   "execution_count": 1,
   "id": "8e1f380a",
   "metadata": {},
   "outputs": [],
   "source": [
    "from itertools import permutations, combinations\n",
    "def generate_all_permutations(seq, pad = None) :\n",
    "    \n",
    "    res = []\n",
    "    \n",
    "    for i in range(5) :\n",
    "        for sseq in combinations(seq, i):\n",
    "            if pad : [res.append(vseq + (pad,) * (4 - i)) for vseq in permutations(sseq) ]\n",
    "            else   : res.extend(permutations(sseq))\n",
    "    return res"
   ]
  },
  {
   "cell_type": "markdown",
   "id": "d48c8974",
   "metadata": {},
   "source": [
    "## Data Volume\n",
    "\n",
    "Generating all possible pairs of len <= 4, in seq [1 .. 128] gives total unique sets with cardinality of **258,096,641**"
   ]
  },
  {
   "cell_type": "code",
   "execution_count": 2,
   "id": "315b87bb",
   "metadata": {},
   "outputs": [],
   "source": [
    "# len(generate_all_permutations(range(128))) # --> 258096641"
   ]
  },
  {
   "cell_type": "markdown",
   "id": "fd8abbb3",
   "metadata": {},
   "source": [
    "## Data Masking\n",
    "We need to treat all combination as 4 length set, so all ordered set with cardinality < 4 need to pad.\n",
    "\n",
    "We will go with approach to mask the remaining records to make carinality of ordered set 4\n",
    "e.g. if \n",
    "|Ordered Set      | Masked Ordered Set|\n",
    "| ---             | ---               |\n",
    "|S = [1, 2],      |mS = [1, 2, p, p]  |\n",
    "|S = [1, 2, 3],   |mS = [1, 2, 3, p]  |\n",
    "|S = [1, 2, 3, 4] |mS = [1, 2, 3, 4]  |\n",
    "\n",
    "\n",
    "we can choose p as any value not in initail set, for consitency across model we will choose $p = -1$, and restrict initial set to be of positive integers"
   ]
  },
  {
   "cell_type": "code",
   "execution_count": 3,
   "id": "8768c4c7",
   "metadata": {},
   "outputs": [],
   "source": [
    "import numpy\n",
    "def write_all_permutations(start, end):\n",
    "    with open(f\"data/all_s{start}_e{end}_permutations\", \"wb\") as f:\n",
    "        numpy.save(f, generate_all_permutations(range(start, end), pad = -1))\n",
    "        \n",
    "\n",
    "def read_all_permutations(filepath):\n",
    "    with open(filepath, \"rb\") as f:\n",
    "        return numpy.load(f)\n",
    "    "
   ]
  },
  {
   "cell_type": "markdown",
   "id": "eba97f1c",
   "metadata": {},
   "source": [
    "# Timing\n",
    "\n",
    "Hardware : Apple Mac M1 Pro, 16 GB Ram, 512 GB SSD"
   ]
  },
  {
   "cell_type": "markdown",
   "id": "f45c6422",
   "metadata": {},
   "source": [
    "Generate takes around \n",
    "30.4 s ± 858 ms per loop (mean ± std. dev. of 7 runs, 1 loop each)"
   ]
  },
  {
   "cell_type": "code",
   "execution_count": 4,
   "id": "eb66c6f9",
   "metadata": {},
   "outputs": [],
   "source": [
    "start, end = 1, 128\n",
    "# %time generate_all_permutations(range(start, end), pad = -1)"
   ]
  },
  {
   "cell_type": "markdown",
   "id": "178f8d9b",
   "metadata": {},
   "source": [
    "Generating and writing for 128 all combination tooks around 127.14764189720154 sec\n"
   ]
  },
  {
   "cell_type": "code",
   "execution_count": 13,
   "id": "cd9aaecd",
   "metadata": {},
   "outputs": [],
   "source": [
    "# import time\n",
    "# start = time.time()\n",
    "# write_all_permutations(1, 128)\n",
    "# print(f\"took around {time.time() - start}\")"
   ]
  },
  {
   "cell_type": "markdown",
   "id": "d05326bd",
   "metadata": {},
   "source": [
    "Reading for 128 all combination took around 1.74102783203125 sec"
   ]
  },
  {
   "cell_type": "code",
   "execution_count": 19,
   "id": "192725b7",
   "metadata": {},
   "outputs": [
    {
     "name": "stdout",
     "output_type": "stream",
     "text": [
      "took around 1.74102783203125\n"
     ]
    }
   ],
   "source": [
    "start = time.time()\n",
    "read_all_permutations(f\"data/all_s1_e128_permutations\")\n",
    "print(f\"took around {time.time() - start}\")"
   ]
  },
  {
   "cell_type": "code",
   "execution_count": 20,
   "id": "091f66e8",
   "metadata": {},
   "outputs": [],
   "source": [
    "res = read_all_permutations(f\"data/all_s1_e128_permutations\")"
   ]
  },
  {
   "cell_type": "code",
   "execution_count": 24,
   "id": "4c00d0b8",
   "metadata": {},
   "outputs": [
    {
     "data": {
      "text/plain": [
       "array([[  4,  66,  -1,  -1],\n",
       "       [ 66,   4,  -1,  -1],\n",
       "       [  4,  67,  -1,  -1],\n",
       "       [ 67,   4,  -1,  -1],\n",
       "       [  4,  68,  -1,  -1],\n",
       "       [ 68,   4,  -1,  -1],\n",
       "       [  4,  69,  -1,  -1],\n",
       "       [ 69,   4,  -1,  -1],\n",
       "       [  4,  70,  -1,  -1],\n",
       "       [ 70,   4,  -1,  -1],\n",
       "       [  4,  71,  -1,  -1],\n",
       "       [ 71,   4,  -1,  -1],\n",
       "       [  4,  72,  -1,  -1],\n",
       "       [ 72,   4,  -1,  -1],\n",
       "       [  4,  73,  -1,  -1],\n",
       "       [ 73,   4,  -1,  -1],\n",
       "       [  4,  74,  -1,  -1],\n",
       "       [ 74,   4,  -1,  -1],\n",
       "       [  4,  75,  -1,  -1],\n",
       "       [ 75,   4,  -1,  -1],\n",
       "       [  4,  76,  -1,  -1],\n",
       "       [ 76,   4,  -1,  -1],\n",
       "       [  4,  77,  -1,  -1],\n",
       "       [ 77,   4,  -1,  -1],\n",
       "       [  4,  78,  -1,  -1],\n",
       "       [ 78,   4,  -1,  -1],\n",
       "       [  4,  79,  -1,  -1],\n",
       "       [ 79,   4,  -1,  -1],\n",
       "       [  4,  80,  -1,  -1],\n",
       "       [ 80,   4,  -1,  -1],\n",
       "       [  4,  81,  -1,  -1],\n",
       "       [ 81,   4,  -1,  -1],\n",
       "       [  4,  82,  -1,  -1],\n",
       "       [ 82,   4,  -1,  -1],\n",
       "       [  4,  83,  -1,  -1],\n",
       "       [ 83,   4,  -1,  -1],\n",
       "       [  4,  84,  -1,  -1],\n",
       "       [ 84,   4,  -1,  -1],\n",
       "       [  4,  85,  -1,  -1],\n",
       "       [ 85,   4,  -1,  -1],\n",
       "       [  4,  86,  -1,  -1],\n",
       "       [ 86,   4,  -1,  -1],\n",
       "       [  4,  87,  -1,  -1],\n",
       "       [ 87,   4,  -1,  -1],\n",
       "       [  4,  88,  -1,  -1],\n",
       "       [ 88,   4,  -1,  -1],\n",
       "       [  4,  89,  -1,  -1],\n",
       "       [ 89,   4,  -1,  -1],\n",
       "       [  4,  90,  -1,  -1],\n",
       "       [ 90,   4,  -1,  -1],\n",
       "       [  4,  91,  -1,  -1],\n",
       "       [ 91,   4,  -1,  -1],\n",
       "       [  4,  92,  -1,  -1],\n",
       "       [ 92,   4,  -1,  -1],\n",
       "       [  4,  93,  -1,  -1],\n",
       "       [ 93,   4,  -1,  -1],\n",
       "       [  4,  94,  -1,  -1],\n",
       "       [ 94,   4,  -1,  -1],\n",
       "       [  4,  95,  -1,  -1],\n",
       "       [ 95,   4,  -1,  -1],\n",
       "       [  4,  96,  -1,  -1],\n",
       "       [ 96,   4,  -1,  -1],\n",
       "       [  4,  97,  -1,  -1],\n",
       "       [ 97,   4,  -1,  -1],\n",
       "       [  4,  98,  -1,  -1],\n",
       "       [ 98,   4,  -1,  -1],\n",
       "       [  4,  99,  -1,  -1],\n",
       "       [ 99,   4,  -1,  -1],\n",
       "       [  4, 100,  -1,  -1],\n",
       "       [100,   4,  -1,  -1],\n",
       "       [  4, 101,  -1,  -1],\n",
       "       [101,   4,  -1,  -1],\n",
       "       [  4, 102,  -1,  -1],\n",
       "       [102,   4,  -1,  -1],\n",
       "       [  4, 103,  -1,  -1],\n",
       "       [103,   4,  -1,  -1],\n",
       "       [  4, 104,  -1,  -1],\n",
       "       [104,   4,  -1,  -1],\n",
       "       [  4, 105,  -1,  -1],\n",
       "       [105,   4,  -1,  -1],\n",
       "       [  4, 106,  -1,  -1],\n",
       "       [106,   4,  -1,  -1],\n",
       "       [  4, 107,  -1,  -1],\n",
       "       [107,   4,  -1,  -1],\n",
       "       [  4, 108,  -1,  -1],\n",
       "       [108,   4,  -1,  -1],\n",
       "       [  4, 109,  -1,  -1],\n",
       "       [109,   4,  -1,  -1],\n",
       "       [  4, 110,  -1,  -1],\n",
       "       [110,   4,  -1,  -1],\n",
       "       [  4, 111,  -1,  -1],\n",
       "       [111,   4,  -1,  -1],\n",
       "       [  4, 112,  -1,  -1],\n",
       "       [112,   4,  -1,  -1],\n",
       "       [  4, 113,  -1,  -1],\n",
       "       [113,   4,  -1,  -1],\n",
       "       [  4, 114,  -1,  -1],\n",
       "       [114,   4,  -1,  -1],\n",
       "       [  4, 115,  -1,  -1],\n",
       "       [115,   4,  -1,  -1],\n",
       "       [  4, 116,  -1,  -1],\n",
       "       [116,   4,  -1,  -1],\n",
       "       [  4, 117,  -1,  -1],\n",
       "       [117,   4,  -1,  -1],\n",
       "       [  4, 118,  -1,  -1],\n",
       "       [118,   4,  -1,  -1],\n",
       "       [  4, 119,  -1,  -1],\n",
       "       [119,   4,  -1,  -1],\n",
       "       [  4, 120,  -1,  -1],\n",
       "       [120,   4,  -1,  -1],\n",
       "       [  4, 121,  -1,  -1],\n",
       "       [121,   4,  -1,  -1],\n",
       "       [  4, 122,  -1,  -1],\n",
       "       [122,   4,  -1,  -1],\n",
       "       [  4, 123,  -1,  -1],\n",
       "       [123,   4,  -1,  -1],\n",
       "       [  4, 124,  -1,  -1],\n",
       "       [124,   4,  -1,  -1],\n",
       "       [  4, 125,  -1,  -1],\n",
       "       [125,   4,  -1,  -1],\n",
       "       [  4, 126,  -1,  -1],\n",
       "       [126,   4,  -1,  -1],\n",
       "       [  4, 127,  -1,  -1],\n",
       "       [127,   4,  -1,  -1],\n",
       "       [  5,   6,  -1,  -1],\n",
       "       [  6,   5,  -1,  -1],\n",
       "       [  5,   7,  -1,  -1],\n",
       "       [  7,   5,  -1,  -1],\n",
       "       [  5,   8,  -1,  -1],\n",
       "       [  8,   5,  -1,  -1],\n",
       "       [  5,   9,  -1,  -1],\n",
       "       [  9,   5,  -1,  -1],\n",
       "       [  5,  10,  -1,  -1],\n",
       "       [ 10,   5,  -1,  -1],\n",
       "       [  5,  11,  -1,  -1],\n",
       "       [ 11,   5,  -1,  -1],\n",
       "       [  5,  12,  -1,  -1],\n",
       "       [ 12,   5,  -1,  -1],\n",
       "       [  5,  13,  -1,  -1],\n",
       "       [ 13,   5,  -1,  -1],\n",
       "       [  5,  14,  -1,  -1],\n",
       "       [ 14,   5,  -1,  -1],\n",
       "       [  5,  15,  -1,  -1],\n",
       "       [ 15,   5,  -1,  -1],\n",
       "       [  5,  16,  -1,  -1],\n",
       "       [ 16,   5,  -1,  -1],\n",
       "       [  5,  17,  -1,  -1],\n",
       "       [ 17,   5,  -1,  -1],\n",
       "       [  5,  18,  -1,  -1],\n",
       "       [ 18,   5,  -1,  -1],\n",
       "       [  5,  19,  -1,  -1],\n",
       "       [ 19,   5,  -1,  -1],\n",
       "       [  5,  20,  -1,  -1],\n",
       "       [ 20,   5,  -1,  -1],\n",
       "       [  5,  21,  -1,  -1],\n",
       "       [ 21,   5,  -1,  -1],\n",
       "       [  5,  22,  -1,  -1],\n",
       "       [ 22,   5,  -1,  -1],\n",
       "       [  5,  23,  -1,  -1],\n",
       "       [ 23,   5,  -1,  -1],\n",
       "       [  5,  24,  -1,  -1],\n",
       "       [ 24,   5,  -1,  -1],\n",
       "       [  5,  25,  -1,  -1],\n",
       "       [ 25,   5,  -1,  -1],\n",
       "       [  5,  26,  -1,  -1],\n",
       "       [ 26,   5,  -1,  -1],\n",
       "       [  5,  27,  -1,  -1],\n",
       "       [ 27,   5,  -1,  -1],\n",
       "       [  5,  28,  -1,  -1],\n",
       "       [ 28,   5,  -1,  -1],\n",
       "       [  5,  29,  -1,  -1],\n",
       "       [ 29,   5,  -1,  -1],\n",
       "       [  5,  30,  -1,  -1],\n",
       "       [ 30,   5,  -1,  -1],\n",
       "       [  5,  31,  -1,  -1],\n",
       "       [ 31,   5,  -1,  -1],\n",
       "       [  5,  32,  -1,  -1],\n",
       "       [ 32,   5,  -1,  -1],\n",
       "       [  5,  33,  -1,  -1],\n",
       "       [ 33,   5,  -1,  -1],\n",
       "       [  5,  34,  -1,  -1],\n",
       "       [ 34,   5,  -1,  -1],\n",
       "       [  5,  35,  -1,  -1],\n",
       "       [ 35,   5,  -1,  -1],\n",
       "       [  5,  36,  -1,  -1],\n",
       "       [ 36,   5,  -1,  -1],\n",
       "       [  5,  37,  -1,  -1],\n",
       "       [ 37,   5,  -1,  -1],\n",
       "       [  5,  38,  -1,  -1],\n",
       "       [ 38,   5,  -1,  -1],\n",
       "       [  5,  39,  -1,  -1],\n",
       "       [ 39,   5,  -1,  -1],\n",
       "       [  5,  40,  -1,  -1],\n",
       "       [ 40,   5,  -1,  -1],\n",
       "       [  5,  41,  -1,  -1],\n",
       "       [ 41,   5,  -1,  -1],\n",
       "       [  5,  42,  -1,  -1],\n",
       "       [ 42,   5,  -1,  -1],\n",
       "       [  5,  43,  -1,  -1],\n",
       "       [ 43,   5,  -1,  -1]])"
      ]
     },
     "execution_count": 24,
     "metadata": {},
     "output_type": "execute_result"
    }
   ],
   "source": [
    "res[1000 : 1200]"
   ]
  },
  {
   "cell_type": "code",
   "execution_count": 9,
   "id": "98452b07",
   "metadata": {},
   "outputs": [],
   "source": []
  },
  {
   "cell_type": "code",
   "execution_count": 11,
   "id": "664a6623",
   "metadata": {},
   "outputs": [
    {
     "data": {
      "text/plain": [
       "2142760440"
      ]
     },
     "execution_count": 11,
     "metadata": {},
     "output_type": "execute_result"
    }
   ],
   "source": []
  },
  {
   "cell_type": "code",
   "execution_count": null,
   "id": "fe04bb4b",
   "metadata": {},
   "outputs": [],
   "source": []
  }
 ],
 "metadata": {
  "kernelspec": {
   "display_name": "Python 3 (ipykernel)",
   "language": "python",
   "name": "python3"
  },
  "language_info": {
   "codemirror_mode": {
    "name": "ipython",
    "version": 3
   },
   "file_extension": ".py",
   "mimetype": "text/x-python",
   "name": "python",
   "nbconvert_exporter": "python",
   "pygments_lexer": "ipython3",
   "version": "3.11.1"
  }
 },
 "nbformat": 4,
 "nbformat_minor": 5
}
