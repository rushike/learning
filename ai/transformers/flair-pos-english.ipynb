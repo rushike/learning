{
 "cells": [
  {
   "cell_type": "code",
   "execution_count": 3,
   "id": "7f969cb3",
   "metadata": {},
   "outputs": [
    {
     "name": "stdout",
     "output_type": "stream",
     "text": [
      "Requirement already satisfied: urllib3 in ./env/lib/python3.11/site-packages (1.26.16)\n",
      "\n",
      "\u001b[1m[\u001b[0m\u001b[34;49mnotice\u001b[0m\u001b[1;39;49m]\u001b[0m\u001b[39;49m A new release of pip available: \u001b[0m\u001b[31;49m22.3.1\u001b[0m\u001b[39;49m -> \u001b[0m\u001b[32;49m23.2\u001b[0m\n",
      "\u001b[1m[\u001b[0m\u001b[34;49mnotice\u001b[0m\u001b[1;39;49m]\u001b[0m\u001b[39;49m To update, run: \u001b[0m\u001b[32;49mpip install --upgrade pip\u001b[0m\n"
     ]
    }
   ],
   "source": [
    "!pip install urllib3"
   ]
  },
  {
   "cell_type": "code",
   "execution_count": 4,
   "id": "5b69b899",
   "metadata": {},
   "outputs": [
    {
     "data": {
      "application/vnd.jupyter.widget-view+json": {
       "model_id": "0c09a7b1d04a40e3be2c63ded33f489b",
       "version_major": 2,
       "version_minor": 0
      },
      "text/plain": [
       "Downloading pytorch_model.bin:   0%|          | 0.00/249M [00:00<?, ?B/s]"
      ]
     },
     "metadata": {},
     "output_type": "display_data"
    },
    {
     "name": "stdout",
     "output_type": "stream",
     "text": [
      "2023-07-16 20:27:06,632 SequenceTagger predicts: Dictionary with 53 tags: <unk>, O, UH, ,, VBD, PRP, VB, PRP$, NN, RB, ., DT, JJ, VBP, VBG, IN, CD, NNS, NNP, WRB, VBZ, WDT, CC, TO, MD, VBN, WP, :, RP, EX, JJR, FW, XX, HYPH, POS, RBR, JJS, PDT, NNPS, RBS, AFX, WP$, -LRB-, -RRB-, ``, '', LS, $, SYM, ADD\n"
     ]
    }
   ],
   "source": [
    "from flair.models import SequenceTagger\n",
    "\n",
    "tagger = SequenceTagger.load(\"flair/pos-english\")"
   ]
  },
  {
   "cell_type": "code",
   "execution_count": 7,
   "id": "8e4b363b",
   "metadata": {},
   "outputs": [],
   "source": [
    "from flair.data import Sentence\n",
    "sentence = Sentence(\"I love Berlin.\")"
   ]
  },
  {
   "cell_type": "code",
   "execution_count": 8,
   "id": "82c28a2f",
   "metadata": {},
   "outputs": [],
   "source": [
    "tagger.predict(sentence)"
   ]
  },
  {
   "cell_type": "code",
   "execution_count": 9,
   "id": "1241482b",
   "metadata": {},
   "outputs": [
    {
     "name": "stdout",
     "output_type": "stream",
     "text": [
      "Sentence[4]: \"I love Berlin.\" → [\"I\"/PRP, \"love\"/VBP, \"Berlin\"/NNP, \".\"/.]\n",
      "The following NER tags are found:\n"
     ]
    }
   ],
   "source": [
    "# print sentence\n",
    "print(sentence)\n",
    "\n",
    "# print predicted NER spans\n",
    "print('The following NER tags are found:')\n",
    "# iterate over entities and print\n",
    "for entity in sentence.get_spans('pos'):\n",
    "    print(entity)"
   ]
  },
  {
   "cell_type": "code",
   "execution_count": 15,
   "id": "8b7681ff",
   "metadata": {},
   "outputs": [],
   "source": [
    "text = \"\"\"\n",
    "Needless to say, there’s a human story behind this: the remarkable story of Srinivasa Ramanujan.\n",
    "\n",
    "He was born in a smallish town in India on December 22, 1887 (which made him not “about 23”, but actually 25, when he wrote his letter to Hardy). His family was of the Brahmin (priests, teachers, …) caste but of modest means. The British colonial rulers of India had put in place a very structured system of schools, and by age 10 Ramanujan stood out by scoring top in his district in the standard exams. He also was known as having an exceptional memory, and being able to recite digits of numbers like pi as well as things like roots of Sanskrit words. When he graduated from high school at age 17 he was recognized for his mathematical prowess, and given a scholarship for college.\n",
    "\n",
    "While in high school Ramanujan had started studying mathematics on his own—and doing his own research (notably on the numerical evaluation of Euler’s constant, and on properties of the Bernoulli numbers). He was fortunate at age 16 (in those days long before the web!) to get a copy of a remarkably good and comprehensive (at least as of 1886) 1055-page summary of high-end undergraduate mathematics, organized in the form of results numbered up to 6165. The book was written by a tutor for the ultra-competitive Mathematical Tripos exams in Cambridge—and its terse “just the facts” format was very similar to the one Ramanujan used in his letter to Hardy.\n",
    "\n",
    "The math book Ramanujan got at age 16 The math book Ramanujan got at age 16 The math book Ramanujan got at age 16 The math book Ramanujan got at age 16 The math book Ramanujan got at age 16 The math book Ramanujan got at age 16\n",
    "\n",
    "By the time Ramanujan got to college, all he wanted to do was mathematics—and he failed his other classes, and at one point ran away, causing his mother to send a missing-person letter to the newspaper:\n",
    "\"\"\""
   ]
  },
  {
   "cell_type": "code",
   "execution_count": 16,
   "id": "f39a4fd8",
   "metadata": {},
   "outputs": [],
   "source": [
    "def flatten(l):\n",
    "    return [item for sublist in l for item in sublist]"
   ]
  },
  {
   "cell_type": "code",
   "execution_count": 19,
   "id": "f81b09ee",
   "metadata": {},
   "outputs": [],
   "source": [
    "sentences = [[t for t in v.split(\".\") if t != ''] for v in text.split(\"\\n\") if v != '']\n",
    "# sentences = [v for v in text.split(\"\\n\") if v != '']"
   ]
  },
  {
   "cell_type": "code",
   "execution_count": 20,
   "id": "360d20e7",
   "metadata": {},
   "outputs": [],
   "source": [
    "sentences = flatten(sentences)"
   ]
  },
  {
   "cell_type": "code",
   "execution_count": 21,
   "id": "6da8831f",
   "metadata": {},
   "outputs": [
    {
     "data": {
      "text/plain": [
       "['Needless to say, there’s a human story behind this: the remarkable story of Srinivasa Ramanujan',\n",
       " 'He was born in a smallish town in India on December 22, 1887 (which made him not “about 23”, but actually 25, when he wrote his letter to Hardy)',\n",
       " ' His family was of the Brahmin (priests, teachers, …) caste but of modest means',\n",
       " ' The British colonial rulers of India had put in place a very structured system of schools, and by age 10 Ramanujan stood out by scoring top in his district in the standard exams',\n",
       " ' He also was known as having an exceptional memory, and being able to recite digits of numbers like pi as well as things like roots of Sanskrit words',\n",
       " ' When he graduated from high school at age 17 he was recognized for his mathematical prowess, and given a scholarship for college',\n",
       " 'While in high school Ramanujan had started studying mathematics on his own—and doing his own research (notably on the numerical evaluation of Euler’s constant, and on properties of the Bernoulli numbers)',\n",
       " ' He was fortunate at age 16 (in those days long before the web!) to get a copy of a remarkably good and comprehensive (at least as of 1886) 1055-page summary of high-end undergraduate mathematics, organized in the form of results numbered up to 6165',\n",
       " ' The book was written by a tutor for the ultra-competitive Mathematical Tripos exams in Cambridge—and its terse “just the facts” format was very similar to the one Ramanujan used in his letter to Hardy',\n",
       " 'The math book Ramanujan got at age 16 The math book Ramanujan got at age 16 The math book Ramanujan got at age 16 The math book Ramanujan got at age 16 The math book Ramanujan got at age 16 The math book Ramanujan got at age 16',\n",
       " 'By the time Ramanujan got to college, all he wanted to do was mathematics—and he failed his other classes, and at one point ran away, causing his mother to send a missing-person letter to the newspaper:']"
      ]
     },
     "execution_count": 21,
     "metadata": {},
     "output_type": "execute_result"
    }
   ],
   "source": [
    "sentences"
   ]
  },
  {
   "cell_type": "code",
   "execution_count": 24,
   "id": "55c224fc",
   "metadata": {},
   "outputs": [],
   "source": [
    "def predict_pos(text) :\n",
    "    sentence = Sentence(text)\n",
    "    tagger.predict(sentence)\n",
    "    print(f\"\\n\\nPOS : {sentence}\")"
   ]
  },
  {
   "cell_type": "code",
   "execution_count": 25,
   "id": "b0b5f52f",
   "metadata": {},
   "outputs": [
    {
     "name": "stdout",
     "output_type": "stream",
     "text": [
      "\n",
      "\n",
      "POS : Sentence[18]: \"Needless to say, there’s a human story behind this: the remarkable story of Srinivasa Ramanujan\" → [\"Needless\"/JJ, \"to\"/TO, \"say\"/VB, \",\"/,, \"there\"/EX, \"’s\"/VBZ, \"a\"/DT, \"human\"/JJ, \"story\"/NN, \"behind\"/IN, \"this\"/DT, \":\"/:, \"the\"/DT, \"remarkable\"/JJ, \"story\"/NN, \"of\"/IN, \"Srinivasa\"/NNP, \"Ramanujan\"/NNP]\n",
      "\n",
      "\n",
      "POS : Sentence[36]: \"He was born in a smallish town in India on December 22, 1887 (which made him not “about 23”, but actually 25, when he wrote his letter to Hardy)\" → [\"He\"/PRP, \"was\"/VBD, \"born\"/VBN, \"in\"/IN, \"a\"/DT, \"smallish\"/JJ, \"town\"/NN, \"in\"/IN, \"India\"/NNP, \"on\"/IN, \"December\"/NNP, \"22\"/CD, \",\"/,, \"1887\"/CD, \"(\"/:, \"which\"/WDT, \"made\"/VBD, \"him\"/PRP, \"not\"/RB, \"“\"/DT, \"about\"/RB, \"23\"/CD, \"”\"/CD, \",\"/,, \"but\"/CC, \"actually\"/RB, \"25\"/CD, \",\"/,, \"when\"/WRB, \"he\"/PRP, \"wrote\"/VBD, \"his\"/PRP$, \"letter\"/NN, \"to\"/IN, \"Hardy\"/NNP, \")\"/.]\n",
      "\n",
      "\n",
      "POS : Sentence[17]: \" His family was of the Brahmin (priests, teachers, …) caste but of modest means\" → [\"His\"/PRP$, \"family\"/NN, \"was\"/VBD, \"of\"/IN, \"the\"/DT, \"Brahmin\"/NNP, \"(\"/,, \"priests\"/NNS, \",\"/,, \"teachers\"/NNS, \",\"/,, \"…)\"/FW, \"caste\"/NN, \"but\"/CC, \"of\"/IN, \"modest\"/JJ, \"means\"/NNS]\n",
      "\n",
      "\n",
      "POS : Sentence[34]: \" The British colonial rulers of India had put in place a very structured system of schools, and by age 10 Ramanujan stood out by scoring top in his district in the standard exams\" → [\"The\"/DT, \"British\"/JJ, \"colonial\"/JJ, \"rulers\"/NNS, \"of\"/IN, \"India\"/NNP, \"had\"/VBD, \"put\"/VBN, \"in\"/IN, \"place\"/NN, \"a\"/DT, \"very\"/RB, \"structured\"/JJ, \"system\"/NN, \"of\"/IN, \"schools\"/NNS, \",\"/,, \"and\"/CC, \"by\"/IN, \"age\"/NN, \"10\"/CD, \"Ramanujan\"/NNP, \"stood\"/VBD, \"out\"/RP, \"by\"/IN, \"scoring\"/VBG, \"top\"/NN, \"in\"/IN, \"his\"/PRP$, \"district\"/NN, \"in\"/IN, \"the\"/DT, \"standard\"/JJ, \"exams\"/NNS]\n",
      "\n",
      "\n",
      "POS : Sentence[29]: \" He also was known as having an exceptional memory, and being able to recite digits of numbers like pi as well as things like roots of Sanskrit words\" → [\"He\"/PRP, \"also\"/RB, \"was\"/VBD, \"known\"/VBN, \"as\"/IN, \"having\"/VBG, \"an\"/DT, \"exceptional\"/JJ, \"memory\"/NN, \",\"/,, \"and\"/CC, \"being\"/VBG, \"able\"/JJ, \"to\"/TO, \"recite\"/VB, \"digits\"/NNS, \"of\"/IN, \"numbers\"/NNS, \"like\"/IN, \"pi\"/NN, \"as\"/RB, \"well\"/RB, \"as\"/IN, \"things\"/NNS, \"like\"/IN, \"roots\"/NNS, \"of\"/IN, \"Sanskrit\"/NNP, \"words\"/NNS]\n",
      "\n",
      "\n",
      "POS : Sentence[23]: \" When he graduated from high school at age 17 he was recognized for his mathematical prowess, and given a scholarship for college\" → [\"When\"/WRB, \"he\"/PRP, \"graduated\"/VBD, \"from\"/IN, \"high\"/JJ, \"school\"/NN, \"at\"/IN, \"age\"/NN, \"17\"/CD, \"he\"/PRP, \"was\"/VBD, \"recognized\"/VBN, \"for\"/IN, \"his\"/PRP$, \"mathematical\"/JJ, \"prowess\"/NN, \",\"/,, \"and\"/CC, \"given\"/VBN, \"a\"/DT, \"scholarship\"/NN, \"for\"/IN, \"college\"/NN]\n",
      "\n",
      "\n",
      "POS : Sentence[37]: \"While in high school Ramanujan had started studying mathematics on his own—and doing his own research (notably on the numerical evaluation of Euler’s constant, and on properties of the Bernoulli numbers)\" → [\"While\"/IN, \"in\"/IN, \"high\"/JJ, \"school\"/NN, \"Ramanujan\"/NNP, \"had\"/VBD, \"started\"/VBN, \"studying\"/VBG, \"mathematics\"/NNS, \"on\"/IN, \"his\"/PRP$, \"own\"/JJ, \"—\"/'', \"and\"/CC, \"doing\"/VBG, \"his\"/PRP$, \"own\"/JJ, \"research\"/NN, \"(\"/,, \"notably\"/RB, \"on\"/IN, \"the\"/DT, \"numerical\"/JJ, \"evaluation\"/NN, \"of\"/IN, \"Euler\"/NNP, \"’s\"/VBZ, \"constant\"/JJ, \",\"/,, \"and\"/CC, \"on\"/IN, \"properties\"/NNS, \"of\"/IN, \"the\"/DT, \"Bernoulli\"/NNP, \"numbers\"/NNS, \")\"/-RRB-]\n",
      "\n",
      "\n",
      "POS : Sentence[49]: \" He was fortunate at age 16 (in those days long before the web!) to get a copy of a remarkably good and comprehensive (at least as of 1886) 1055-page summary of high-end undergraduate mathematics, organized in the form of results numbered up to 6165\" → [\"He\"/PRP, \"was\"/VBD, \"fortunate\"/JJ, \"at\"/IN, \"age\"/NN, \"16\"/CD, \"(\"/:, \"in\"/IN, \"those\"/DT, \"days\"/NNS, \"long\"/RB, \"before\"/IN, \"the\"/DT, \"web\"/NN, \"!)\"/NFP, \"to\"/TO, \"get\"/VB, \"a\"/DT, \"copy\"/NN, \"of\"/IN, \"a\"/DT, \"remarkably\"/RB, \"good\"/JJ, \"and\"/CC, \"comprehensive\"/JJ, \"(\"/:, \"at\"/IN, \"least\"/JJS, \"as\"/IN, \"of\"/IN, \"1886\"/CD, \")\"/SYM, \"1055-page\"/CD, \"summary\"/NN, \"of\"/IN, \"high-end\"/JJ, \"undergraduate\"/JJ, \"mathematics\"/NNS, \",\"/,, \"organized\"/VBN, \"in\"/IN, \"the\"/DT, \"form\"/NN, \"of\"/IN, \"results\"/NNS, \"numbered\"/VBN, \"up\"/RB, \"to\"/IN, \"6165\"/CD]\n",
      "\n",
      "\n",
      "POS : Sentence[38]: \" The book was written by a tutor for the ultra-competitive Mathematical Tripos exams in Cambridge—and its terse “just the facts” format was very similar to the one Ramanujan used in his letter to Hardy\" → [\"The\"/DT, \"book\"/NN, \"was\"/VBD, \"written\"/VBN, \"by\"/IN, \"a\"/DT, \"tutor\"/NN, \"for\"/IN, \"the\"/DT, \"ultra-competitive\"/JJ, \"Mathematical\"/NNP, \"Tripos\"/NNPS, \"exams\"/NNS, \"in\"/IN, \"Cambridge\"/NNP, \"—\"/POS, \"and\"/CC, \"its\"/PRP$, \"terse\"/JJ, \"“\"/``, \"just\"/RB, \"the\"/DT, \"facts\"/NNS, \"”\"/DT, \"format\"/NN, \"was\"/VBD, \"very\"/RB, \"similar\"/JJ, \"to\"/IN, \"the\"/DT, \"one\"/NN, \"Ramanujan\"/NNP, \"used\"/VBD, \"in\"/IN, \"his\"/PRP$, \"letter\"/NN, \"to\"/IN, \"Hardy\"/NNP]\n",
      "\n",
      "\n",
      "POS : Sentence[48]: \"The math book Ramanujan got at age 16 The math book Ramanujan got at age 16 The math book Ramanujan got at age 16 The math book Ramanujan got at age 16 The math book Ramanujan got at age 16 The math book Ramanujan got at age 16\" → [\"The\"/DT, \"math\"/NN, \"book\"/NN, \"Ramanujan\"/NNP, \"got\"/VBD, \"at\"/IN, \"age\"/NN, \"16\"/CD, \"The\"/DT, \"math\"/NN, \"book\"/NN, \"Ramanujan\"/NNP, \"got\"/VBD, \"at\"/IN, \"age\"/NN, \"16\"/CD, \"The\"/DT, \"math\"/NN, \"book\"/NN, \"Ramanujan\"/NNP, \"got\"/VBD, \"at\"/IN, \"age\"/NN, \"16\"/CD, \"The\"/DT, \"math\"/NN, \"book\"/NN, \"Ramanujan\"/NNP, \"got\"/VBD, \"at\"/IN, \"age\"/NN, \"16\"/CD, \"The\"/DT, \"math\"/NN, \"book\"/NN, \"Ramanujan\"/NNP, \"got\"/VBD, \"at\"/IN, \"age\"/NN, \"16\"/CD, \"The\"/DT, \"math\"/NN, \"book\"/NN, \"Ramanujan\"/NNP, \"got\"/VBD, \"at\"/IN, \"age\"/NN, \"16\"/CD]\n",
      "\n",
      "\n",
      "POS : Sentence[42]: \"By the time Ramanujan got to college, all he wanted to do was mathematics—and he failed his other classes, and at one point ran away, causing his mother to send a missing-person letter to the newspaper:\" → [\"By\"/IN, \"the\"/DT, \"time\"/NN, \"Ramanujan\"/NNP, \"got\"/VBD, \"to\"/IN, \"college\"/NN, \",\"/,, \"all\"/DT, \"he\"/PRP, \"wanted\"/VBD, \"to\"/TO, \"do\"/VB, \"was\"/VBD, \"mathematics\"/NNS, \"—\"/'', \"and\"/CC, \"he\"/PRP, \"failed\"/VBD, \"his\"/PRP$, \"other\"/JJ, \"classes\"/NNS, \",\"/,, \"and\"/CC, \"at\"/IN, \"one\"/CD, \"point\"/NN, \"ran\"/VBD, \"away\"/RB, \",\"/,, \"causing\"/VBG, \"his\"/PRP$, \"mother\"/NN, \"to\"/TO, \"send\"/VB, \"a\"/DT, \"missing-person\"/NN, \"letter\"/NN, \"to\"/IN, \"the\"/DT, \"newspaper\"/NN, \":\"/:]\n"
     ]
    }
   ],
   "source": [
    "for sentence in sentences:\n",
    "    predict_pos(sentence)"
   ]
  },
  {
   "cell_type": "code",
   "execution_count": null,
   "id": "c2d844ec",
   "metadata": {},
   "outputs": [],
   "source": []
  }
 ],
 "metadata": {
  "kernelspec": {
   "display_name": "Python 3 (ipykernel)",
   "language": "python",
   "name": "python3"
  },
  "language_info": {
   "codemirror_mode": {
    "name": "ipython",
    "version": 3
   },
   "file_extension": ".py",
   "mimetype": "text/x-python",
   "name": "python",
   "nbconvert_exporter": "python",
   "pygments_lexer": "ipython3",
   "version": "3.11.1"
  }
 },
 "nbformat": 4,
 "nbformat_minor": 5
}
